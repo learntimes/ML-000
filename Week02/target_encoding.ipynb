{
  "nbformat": 4,
  "nbformat_minor": 0,
  "metadata": {
    "colab": {
      "name": "target_encoding.ipynb",
      "provenance": [],
      "collapsed_sections": [],
      "mount_file_id": "1vJrndM0DGXqCGokPf9Q2qNIriG0inkxQ",
      "authorship_tag": "ABX9TyPCrMQcxZNaijdYztWof1I1"
    },
    "kernelspec": {
      "name": "python3",
      "display_name": "Python 3"
    }
  },
  "cells": [
    {
      "cell_type": "markdown",
      "metadata": {
        "id": "fG9jHdXaaVYP"
      },
      "source": [
        "## The Data"
      ]
    },
    {
      "cell_type": "code",
      "metadata": {
        "id": "BCVYsGJb8wY6"
      },
      "source": [
        "import numpy as np\n",
        "import pandas as pd"
      ],
      "execution_count": 1,
      "outputs": []
    },
    {
      "cell_type": "code",
      "metadata": {
        "id": "Tdi06qTzaKBo"
      },
      "source": [
        "y = np.random.randint(2, size=(5000, 1))\n",
        "x = np.random.randint(10, size=(5000, 1))\n",
        "dn = np.concatenate([y, x], axis=1)\n",
        "data = pd.DataFrame(np.concatenate([y, x], axis=1), columns=['y', 'x'])"
      ],
      "execution_count": 2,
      "outputs": []
    },
    {
      "cell_type": "markdown",
      "metadata": {
        "id": "kKKvI8fda8Ti"
      },
      "source": [
        "## The Python Edition"
      ]
    },
    {
      "cell_type": "code",
      "metadata": {
        "id": "vrQ-16JH88gB"
      },
      "source": [
        "def target_mean_v1(data, y_name, x_name):\n",
        "    result = np.zeros(data.shape[0])\n",
        "    for i in range(data.shape[0]):\n",
        "        groupby_result = data[data.index != i].groupby([x_name], as_index=False).agg(['mean', 'count'])\n",
        "        result[i] = groupby_result.loc[groupby_result.index == data.loc[i, x_name], (y_name, 'mean')]\n",
        "    return result"
      ],
      "execution_count": 3,
      "outputs": []
    },
    {
      "cell_type": "code",
      "metadata": {
        "colab": {
          "base_uri": "https://localhost:8080/"
        },
        "id": "qOjb7OHqbGO6",
        "outputId": "d577399a-d23f-49e3-e004-111eec331de9"
      },
      "source": [
        "%%timeit\n",
        "result_1 = target_mean_v1(data, 'y', 'x')"
      ],
      "execution_count": 5,
      "outputs": [
        {
          "output_type": "stream",
          "text": [
            "1 loop, best of 3: 24.9 s per loop\n"
          ],
          "name": "stdout"
        }
      ]
    },
    {
      "cell_type": "code",
      "metadata": {
        "id": "cvbYXd5--FPR"
      },
      "source": [
        "def target_mean_v2(data, y_name, x_name):\n",
        "    result = np.zeros(data.shape[0])\n",
        "    value_dict = dict()\n",
        "    count_dict = dict()\n",
        "    for i in range(data.shape[0]):\n",
        "        if data.loc[i, x_name] not in value_dict.keys():\n",
        "            value_dict[data.loc[i, x_name]] = data.loc[i, y_name]\n",
        "            count_dict[data.loc[i, x_name]] = 1\n",
        "        else:\n",
        "            value_dict[data.loc[i, x_name]] += data.loc[i, y_name]\n",
        "            count_dict[data.loc[i, x_name]] += 1\n",
        "    for i in range(data.shape[0]):\n",
        "        result[i] = (value_dict[data.loc[i, x_name]] - data.loc[i, y_name]) / (count_dict[data.loc[i, x_name]] - 1)\n",
        "    return result"
      ],
      "execution_count": 6,
      "outputs": []
    },
    {
      "cell_type": "code",
      "metadata": {
        "colab": {
          "base_uri": "https://localhost:8080/"
        },
        "id": "5n0fxtw3bvuX",
        "outputId": "ddadaad6-4675-43ab-d70c-55027c7f3b63"
      },
      "source": [
        "%%timeit\n",
        "result_2 = target_mean_v2(data, 'y', 'x')"
      ],
      "execution_count": 8,
      "outputs": [
        {
          "output_type": "stream",
          "text": [
            "1 loop, best of 3: 310 ms per loop\n"
          ],
          "name": "stdout"
        }
      ]
    },
    {
      "cell_type": "code",
      "metadata": {
        "colab": {
          "base_uri": "https://localhost:8080/"
        },
        "id": "0FPzmsndnSsq",
        "outputId": "fa3f2bb5-3863-451e-c5d3-1347dc366046"
      },
      "source": [
        "diff = np.linalg.norm(result_2 - result_1)\n",
        "print(diff)"
      ],
      "execution_count": 9,
      "outputs": [
        {
          "output_type": "stream",
          "text": [
            "0.0\n"
          ],
          "name": "stdout"
        }
      ]
    },
    {
      "cell_type": "markdown",
      "metadata": {
        "id": "ShoQabCXcVNR"
      },
      "source": [
        "使用setdefault方法减少if-else结构"
      ]
    },
    {
      "cell_type": "code",
      "metadata": {
        "id": "iDsXUf6-jKYJ"
      },
      "source": [
        "def target_mean_v3(data, y_name, x_name):\n",
        "    result = np.zeros(data.shape[0])\n",
        "    value_dict = dict()\n",
        "    count_dict = dict()\n",
        "    for i in range(data.shape[0]):\n",
        "        value_dict.setdefault(data.loc[i, x_name], 0.0)\n",
        "        value_dict[data.loc[i, x_name]] += data.loc[i, y_name]\n",
        "        count_dict.setdefault(data.loc[i, x_name], 0)\n",
        "        count_dict[data.loc[i, x_name]] += 1       \n",
        "    for i in range(data.shape[0]):\n",
        "        result[i] = (value_dict[data.loc[i, x_name]] - data.loc[i, y_name]) / (count_dict[data.loc[i, x_name]] - 1)\n",
        "    return result"
      ],
      "execution_count": 19,
      "outputs": []
    },
    {
      "cell_type": "code",
      "metadata": {
        "colab": {
          "base_uri": "https://localhost:8080/"
        },
        "id": "K7bh-SKRpgwy",
        "outputId": "43f8a5a2-2cef-4892-c88e-abbb34698200"
      },
      "source": [
        "%%timeit\n",
        "result_3 = target_mean_v3(data, 'y', 'x')"
      ],
      "execution_count": 20,
      "outputs": [
        {
          "output_type": "stream",
          "text": [
            "1 loop, best of 3: 352 ms per loop\n"
          ],
          "name": "stdout"
        }
      ]
    },
    {
      "cell_type": "code",
      "metadata": {
        "colab": {
          "base_uri": "https://localhost:8080/"
        },
        "id": "Phlshn4mfJdT",
        "outputId": "3b880f12-e7da-4bf1-817e-a021e97506ca"
      },
      "source": [
        "diff = np.linalg.norm(result_3 - result_1)\n",
        "print(diff)"
      ],
      "execution_count": 16,
      "outputs": [
        {
          "output_type": "stream",
          "text": [
            "0.0\n"
          ],
          "name": "stdout"
        }
      ]
    },
    {
      "cell_type": "markdown",
      "metadata": {
        "id": "LKMWur1mcypi"
      },
      "source": [
        "改用defaultdict，这个是群里同学发的版本。不急于求结果的话，可以只返回生成器"
      ]
    },
    {
      "cell_type": "code",
      "metadata": {
        "id": "H_Mz8fXDKc4J"
      },
      "source": [
        "from collections import defaultdict\n",
        "\n",
        "def target_mean_v4(data, y_name, x_name):\n",
        "    X = data[x_name].values\n",
        "    Y = data[y_name].values   \n",
        "    value_dict = defaultdict(lambda:0.0)\n",
        "    count_dict = defaultdict(lambda:0)    \n",
        "    for x, y in zip(X, Y):\n",
        "        value_dict[x] += y\n",
        "        count_dict[x] += 1     \n",
        "    result = [(value_dict[x] - y) / (count_dict[x] - 1) for x, y in zip(X, Y)]\n",
        "    return result"
      ],
      "execution_count": 21,
      "outputs": []
    },
    {
      "cell_type": "code",
      "metadata": {
        "colab": {
          "base_uri": "https://localhost:8080/"
        },
        "id": "CtO26i1WpYDU",
        "outputId": "8ebeee6d-4f77-4905-b248-c890131110a7"
      },
      "source": [
        "%%timeit\n",
        "result_4 = target_mean_v4(data, 'y', 'x')"
      ],
      "execution_count": 27,
      "outputs": [
        {
          "output_type": "stream",
          "text": [
            "100 loops, best of 3: 10.5 ms per loop\n"
          ],
          "name": "stdout"
        }
      ]
    },
    {
      "cell_type": "code",
      "metadata": {
        "colab": {
          "base_uri": "https://localhost:8080/"
        },
        "id": "lv4AOb7ve-bs",
        "outputId": "f049c05f-aff2-4142-e472-ece600bc820a"
      },
      "source": [
        "diff = np.linalg.norm(result_4 - result_1)\n",
        "print(diff)"
      ],
      "execution_count": 26,
      "outputs": [
        {
          "output_type": "stream",
          "text": [
            "0.0\n"
          ],
          "name": "stdout"
        }
      ]
    },
    {
      "cell_type": "markdown",
      "metadata": {
        "id": "MgyQtmeCfBBG"
      },
      "source": [
        "这里测试一下itertools中的groupby方法"
      ]
    },
    {
      "cell_type": "code",
      "metadata": {
        "id": "TB2RHjRBx6gr"
      },
      "source": [
        "from itertools import groupby\n",
        "from operator import itemgetter\n",
        "def target_mean_v5(data, y_name, x_name):\n",
        "    X = data[x_name].values\n",
        "    Y = data[y_name].values \n",
        "    value_dict = defaultdict(lambda:0.0)\n",
        "    count_dict = defaultdict(lambda:0)  \n",
        "    for k, g in groupby(sorted(zip(X, Y),key=lambda z:z[0]),key=itemgetter(0)):\n",
        "        y_by_group = list(item[1] for item in g)\n",
        "        value_dict[k] = sum(y_by_group)\n",
        "        count_dict[k] = len(y_by_group)\n",
        "    result = [(value_dict[x] - y) / (count_dict[x] - 1) for x, y in zip(X, Y)]        \n",
        "    return result"
      ],
      "execution_count": 30,
      "outputs": []
    },
    {
      "cell_type": "code",
      "metadata": {
        "colab": {
          "base_uri": "https://localhost:8080/"
        },
        "id": "oTAV4_69pVNf",
        "outputId": "9caa8782-98a6-4192-bc1e-4326cef6c9a2"
      },
      "source": [
        "%%timeit\n",
        "result_5 = target_mean_v5(data, 'y', 'x')"
      ],
      "execution_count": 33,
      "outputs": [
        {
          "output_type": "stream",
          "text": [
            "100 loops, best of 3: 10.2 ms per loop\n"
          ],
          "name": "stdout"
        }
      ]
    },
    {
      "cell_type": "code",
      "metadata": {
        "colab": {
          "base_uri": "https://localhost:8080/"
        },
        "id": "bGjzJ_RKgD7t",
        "outputId": "8a9d7394-5a8e-4f31-c647-7dcdb545f20b"
      },
      "source": [
        "diff = np.linalg.norm(result_5 - result_1)\n",
        "print(diff)"
      ],
      "execution_count": 32,
      "outputs": [
        {
          "output_type": "stream",
          "text": [
            "0.0\n"
          ],
          "name": "stdout"
        }
      ]
    },
    {
      "cell_type": "markdown",
      "metadata": {
        "id": "bUgyJSu3gFr7"
      },
      "source": [
        "## The Cython Edition"
      ]
    },
    {
      "cell_type": "code",
      "metadata": {
        "id": "EmDMGngsGMhw"
      },
      "source": [
        "%load_ext Cython"
      ],
      "execution_count": 34,
      "outputs": []
    },
    {
      "cell_type": "markdown",
      "metadata": {
        "id": "YC5EQtLrhgu7"
      },
      "source": [
        "使用cnp.ndarray"
      ]
    },
    {
      "cell_type": "code",
      "metadata": {
        "id": "tAoHkS6c3DqR"
      },
      "source": [
        "%%cython\n",
        "\n",
        "import cython\n",
        "import numpy as np\n",
        "import pandas as pd\n",
        "cimport numpy as cnp\n",
        "\n",
        "@cython.boundscheck(False)\n",
        "@cython.wraparound(False)\n",
        "cpdef cnp.ndarray[double] target_mean_v6(cnp.ndarray[int, ndim=2] data):\n",
        "    cdef cnp.ndarray[int] x = data[:,1]\n",
        "    cdef cnp.ndarray[int] y = data[:,0]\n",
        "    cdef int n = data.shape[0]\n",
        "    cdef cnp.ndarray[double] result = np.zeros(n)\n",
        "    cdef cnp.ndarray[int] value_dict = np.zeros(n).astype(np.intc)\n",
        "    cdef cnp.ndarray[int] count_dict = np.zeros(n).astype(np.intc)\n",
        "    cdef int i\n",
        "    for i in range(n):\n",
        "        value_dict[x[i]] += y[i]\n",
        "        count_dict[x[i]] += 1\n",
        "    for i in range(n):\n",
        "        result[i] = (value_dict[x[i]] - y[i]) / (count_dict[x[i]] - 1)\n",
        "    return result"
      ],
      "execution_count": 35,
      "outputs": []
    },
    {
      "cell_type": "code",
      "metadata": {
        "colab": {
          "base_uri": "https://localhost:8080/"
        },
        "id": "gLyBh8QKoq2W",
        "outputId": "6111ddfe-53e7-4959-a0bf-c0606777ee67"
      },
      "source": [
        "%%timeit\n",
        "result_6 = target_mean_v6(data.values.astype(np.intc))"
      ],
      "execution_count": 38,
      "outputs": [
        {
          "output_type": "stream",
          "text": [
            "The slowest run took 12.51 times longer than the fastest. This could mean that an intermediate result is being cached.\n",
            "10000 loops, best of 3: 51.2 µs per loop\n"
          ],
          "name": "stdout"
        }
      ]
    },
    {
      "cell_type": "code",
      "metadata": {
        "colab": {
          "base_uri": "https://localhost:8080/"
        },
        "id": "G-UYqqRwjPw6",
        "outputId": "77cf5e7c-1323-462b-8541-1e8612eacec9"
      },
      "source": [
        "diff = np.linalg.norm(result_6 - result_1)\n",
        "print(diff)"
      ],
      "execution_count": 37,
      "outputs": [
        {
          "output_type": "stream",
          "text": [
            "0.0\n"
          ],
          "name": "stdout"
        }
      ]
    },
    {
      "cell_type": "markdown",
      "metadata": {
        "id": "y_rILsn7h34i"
      },
      "source": [
        "测试一下并行，[cython中的并行](https://cython.readthedocs.io/en/latest/src/userguide/parallelism.html)目前只支持OpenMP，在这里运行意义不大。"
      ]
    },
    {
      "cell_type": "code",
      "metadata": {
        "id": "zntduJFRF2k5"
      },
      "source": [
        "%%cython\n",
        "\n",
        "import cython\n",
        "import numpy as np\n",
        "import pandas as pd\n",
        "cimport numpy as cnp\n",
        "from cython.parallel import prange\n",
        "\n",
        "@cython.boundscheck(False)\n",
        "@cython.wraparound(False)\n",
        "cpdef cnp.ndarray[double] target_mean_v7(cnp.ndarray[int, ndim=2] data):\n",
        "    cdef cnp.ndarray[int] x = data[:,1]\n",
        "    cdef cnp.ndarray[int] y = data[:,0]\n",
        "    cdef int n = data.shape[0]\n",
        "    cdef cnp.ndarray[double] result = np.zeros(n)\n",
        "    cdef cnp.ndarray[int] value_dict = np.zeros(n).astype(np.intc)\n",
        "    cdef cnp.ndarray[int] count_dict = np.zeros(n).astype(np.intc)\n",
        "    cdef int i\n",
        "    for i in prange(n, nogil=True):\n",
        "        value_dict[x[i]] += y[i]\n",
        "\n",
        "        count_dict[x[i]] += 1\n",
        "    for i in prange(n, nogil=True):\n",
        "        result[i] = (value_dict[x[i]] - y[i]) / (count_dict[x[i]] - 1)\n",
        "    return result"
      ],
      "execution_count": 39,
      "outputs": []
    },
    {
      "cell_type": "code",
      "metadata": {
        "colab": {
          "base_uri": "https://localhost:8080/"
        },
        "id": "XM8d6I3UoZl4",
        "outputId": "612bfa1a-61ae-48cf-9878-af7c04707ec4"
      },
      "source": [
        "%%timeit\n",
        "result_7 = target_mean_v7(data.values.astype(np.intc))"
      ],
      "execution_count": 42,
      "outputs": [
        {
          "output_type": "stream",
          "text": [
            "The slowest run took 75.19 times longer than the fastest. This could mean that an intermediate result is being cached.\n",
            "10000 loops, best of 3: 57.9 µs per loop\n"
          ],
          "name": "stdout"
        }
      ]
    },
    {
      "cell_type": "code",
      "metadata": {
        "colab": {
          "base_uri": "https://localhost:8080/"
        },
        "id": "NSq2BBm6jWYT",
        "outputId": "f7e92859-e298-4f03-e403-ef958dbf2880"
      },
      "source": [
        "diff = np.linalg.norm(result_7 - result_1)\n",
        "print(diff)"
      ],
      "execution_count": 41,
      "outputs": [
        {
          "output_type": "stream",
          "text": [
            "0.0\n"
          ],
          "name": "stdout"
        }
      ]
    },
    {
      "cell_type": "markdown",
      "metadata": {
        "id": "A4QDuKVGjX2N"
      },
      "source": [
        "使用[Typed Memoryviews](https://cython.readthedocs.io/en/latest/src/userguide/memoryviews.html#typed-memoryviews)"
      ]
    },
    {
      "cell_type": "code",
      "metadata": {
        "id": "xxiVTueNhtlt"
      },
      "source": [
        "%%cython\n",
        "\n",
        "import cython\n",
        "import numpy as np\n",
        "from cython.parallel import prange\n",
        "\n",
        "@cython.boundscheck(False)\n",
        "@cython.wraparound(False)\n",
        "cpdef double[:] target_mean_v8(int[:, :] data):\n",
        "    cdef int[:] x = data[:,1]\n",
        "    cdef int[:] y = data[:,0]\n",
        "    cdef int n = data.shape[0]\n",
        "    cdef double[:] result = np.zeros(n).astype(np.double)\n",
        "    cdef int[:] value_dict = np.zeros(n).astype(np.intc)\n",
        "    cdef int[:] count_dict = np.zeros(n).astype(np.intc)\n",
        "    cdef int i\n",
        "    for i in prange(n, nogil=True):\n",
        "        value_dict[x[i]] += y[i]\n",
        "\n",
        "        count_dict[x[i]] += 1\n",
        "    for i in prange(n, nogil=True):\n",
        "        result[i] = (value_dict[x[i]] - y[i]) / (count_dict[x[i]] - 1)\n",
        "    return result"
      ],
      "execution_count": 43,
      "outputs": []
    },
    {
      "cell_type": "code",
      "metadata": {
        "colab": {
          "base_uri": "https://localhost:8080/"
        },
        "id": "VTGpUYWHogJw",
        "outputId": "64836c86-f9ee-4b8a-a043-b2eda8b01c1f"
      },
      "source": [
        "%%timeit\n",
        "result_8 = target_mean_v8(data.values.astype(np.intc))"
      ],
      "execution_count": 57,
      "outputs": [
        {
          "output_type": "stream",
          "text": [
            "The slowest run took 6.67 times longer than the fastest. This could mean that an intermediate result is being cached.\n",
            "10000 loops, best of 3: 56.2 µs per loop\n"
          ],
          "name": "stdout"
        }
      ]
    },
    {
      "cell_type": "markdown",
      "metadata": {
        "id": "inpkjzjgxm4c"
      },
      "source": [
        "当然直接传numby数组的话会更快一些"
      ]
    },
    {
      "cell_type": "code",
      "metadata": {
        "colab": {
          "base_uri": "https://localhost:8080/"
        },
        "id": "q3bJugOxxUvP",
        "outputId": "7b10fb9b-14c6-40f5-e2fa-052b263c9342"
      },
      "source": [
        "%%timeit\n",
        "result_8 = target_mean_v8(dn.astype(np.intc))"
      ],
      "execution_count": 60,
      "outputs": [
        {
          "output_type": "stream",
          "text": [
            "The slowest run took 20.15 times longer than the fastest. This could mean that an intermediate result is being cached.\n",
            "10000 loops, best of 3: 47.2 µs per loop\n"
          ],
          "name": "stdout"
        }
      ]
    },
    {
      "cell_type": "code",
      "metadata": {
        "colab": {
          "base_uri": "https://localhost:8080/"
        },
        "id": "IpuYPGgplgNp",
        "outputId": "d6c45f2b-b51b-403d-ea3b-ceff544d9f21"
      },
      "source": [
        "diff = np.linalg.norm(result_8 - result_1)\n",
        "print(diff)"
      ],
      "execution_count": 45,
      "outputs": [
        {
          "output_type": "stream",
          "text": [
            "0.0\n"
          ],
          "name": "stdout"
        }
      ]
    },
    {
      "cell_type": "markdown",
      "metadata": {
        "id": "CEvLzWZ1lnzq"
      },
      "source": [
        "## The Numba Edition"
      ]
    },
    {
      "cell_type": "markdown",
      "metadata": {
        "id": "KwHv3h8p77T0"
      },
      "source": [
        "Numba是个jit编译器，简单高效，支持并行，使用时只需要添加装饰器即可。"
      ]
    },
    {
      "cell_type": "code",
      "metadata": {
        "id": "kcrGhOeGAECe"
      },
      "source": [
        "from numba import njit, prange\n",
        "import numpy as np\n",
        "\n",
        "@njit(parallel=True)\n",
        "def target_mean_v9(data):\n",
        "    X = data[:,1]\n",
        "    Y = data[:,0] \n",
        "    n = X.shape[0]\n",
        "    value_dict = np.zeros(n)\n",
        "    count_dict = np.zeros(n) \n",
        "    result = np.zeros(n)   \n",
        "    for i in range(n):\n",
        "        value_dict[X[i]] += Y[i]\n",
        "        count_dict[X[i]] += 1\n",
        "    for i in range(n):\n",
        "        result[i] = (value_dict[X[i]] - Y[i]) / (count_dict[X[i]] - 1)  \n",
        "    return result"
      ],
      "execution_count": 50,
      "outputs": []
    },
    {
      "cell_type": "code",
      "metadata": {
        "colab": {
          "base_uri": "https://localhost:8080/"
        },
        "id": "v7ew9HB0oGnw",
        "outputId": "487817c2-d783-4eea-ae60-e51278f35065"
      },
      "source": [
        "%%timeit\n",
        "result_9 = target_mean_v9(data.values)"
      ],
      "execution_count": 58,
      "outputs": [
        {
          "output_type": "stream",
          "text": [
            "The slowest run took 5.33 times longer than the fastest. This could mean that an intermediate result is being cached.\n",
            "10000 loops, best of 3: 50.1 µs per loop\n"
          ],
          "name": "stdout"
        }
      ]
    },
    {
      "cell_type": "code",
      "metadata": {
        "colab": {
          "base_uri": "https://localhost:8080/"
        },
        "id": "adrB_y52x4oL",
        "outputId": "943aaaa3-3df3-4c72-b461-e3e3d325c5d4"
      },
      "source": [
        "%%timeit\n",
        "result_9 = target_mean_v9(dn)"
      ],
      "execution_count": 62,
      "outputs": [
        {
          "output_type": "stream",
          "text": [
            "The slowest run took 10.56 times longer than the fastest. This could mean that an intermediate result is being cached.\n",
            "10000 loops, best of 3: 40.2 µs per loop\n"
          ],
          "name": "stdout"
        }
      ]
    },
    {
      "cell_type": "code",
      "metadata": {
        "id": "-xuuxUyS-dHn",
        "colab": {
          "base_uri": "https://localhost:8080/"
        },
        "outputId": "532d5047-5bd3-461f-937a-3d647bf53fb0"
      },
      "source": [
        "diff = np.linalg.norm(result_9 - result_1)\n",
        "print(diff)"
      ],
      "execution_count": 52,
      "outputs": [
        {
          "output_type": "stream",
          "text": [
            "0.0\n"
          ],
          "name": "stdout"
        }
      ]
    },
    {
      "cell_type": "markdown",
      "metadata": {
        "id": "sqhlUmRy2aCE"
      },
      "source": [
        "## References"
      ]
    },
    {
      "cell_type": "markdown",
      "metadata": {
        "id": "6C3jyOAx3wMw"
      },
      "source": [
        "\n",
        "\n",
        "*   6 ways to significantly speed up Pandas with a couple lines of code [Part 1](https://medium.com/swlh/6-ways-to-significantly-speed-up-pandas-with-a-couple-lines-of-code-part-1-2c2dfb0de230) [Part 2](https://medium.com/swlh/6-ways-to-significantly-speed-up-pandas-with-a-couple-lines-of-code-part-2-7a9e41ba76dc)\n",
        "*   其他一些python加速工具：\n",
        "[Numba](http://numba.pydata.org/)\n",
        "[Dask](https://dask.org/)\n",
        "[Weld](https://www.weld.rs/)\n"
      ]
    },
    {
      "cell_type": "code",
      "metadata": {
        "id": "Cw6vsObv_i_O"
      },
      "source": [
        ""
      ],
      "execution_count": null,
      "outputs": []
    }
  ]
}